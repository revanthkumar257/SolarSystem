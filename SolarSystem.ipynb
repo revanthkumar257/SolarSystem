{
 "cells": [
  {
   "cell_type": "code",
   "execution_count": 1,
   "id": "980d5559-1022-4e93-be51-6b1ab69fe917",
   "metadata": {},
   "outputs": [],
   "source": [
    "import turtle\n",
    "from math import cos, sin\n",
    "\n",
    "screen = turtle.Screen()\n",
    "screen.tracer(50)\n",
    "\n",
    "sun = turtle.Turtle()\n",
    "sun.shape('circle')\n",
    "sun.color('yellow')\n",
    "\n",
    "class Planet(turtle.Turtle):\n",
    "    def __init__(self, name, radius, color):\n",
    "        super().__init__(shape='circle')\n",
    "        self.name = name\n",
    "        self.radius = radius\n",
    "        self.color(color)\n",
    "        self.penup()\n",
    "        self.angle = 0\n",
    "\n",
    "    def move(self):\n",
    "        x = self.radius * cos(self.angle)\n",
    "        y = self.radius * sin(self.angle)\n",
    "        self.goto(sun.xcor() + x, sun.ycor() + y)\n",
    "\n",
    "mercury = Planet(\"Mercury\", 40, 'grey')\n",
    "venus = Planet(\"Venus\", 80, 'orange')\n",
    "earth = Planet(\"Earth\", 100, 'blue')\n",
    "mars = Planet(\"Mars\", 150, 'red')\n",
    "jupiter = Planet(\"Jupiter\", 180, 'brown')\n",
    "saturn = Planet(\"Saturn\", 230, 'pink')\n",
    "uranus = Planet(\"Uranus\", 250, 'light blue')\n",
    "neptune = Planet(\"Neptune\", 280, 'black')\n",
    "\n",
    "planets = [mercury, venus, earth, mars, jupiter, saturn, uranus, neptune]\n",
    "\n",
    "def update_positions():\n",
    "    for planet in planets:\n",
    "        planet.move()\n",
    "    # Incrementing angles\n",
    "    mercury.angle += 0.05\n",
    "    venus.angle += 0.03\n",
    "    earth.angle += 0.01\n",
    "    mars.angle += 0.007\n",
    "    jupiter.angle += 0.02\n",
    "    saturn.angle += 0.018\n",
    "    uranus.angle += 0.016\n",
    "    neptune.angle += 0.005\n",
    "    screen.update()\n",
    "    screen.ontimer(update_positions, 50)\n",
    "\n",
    "update_positions()\n",
    "\n",
    "screen.mainloop()\n"
   ]
  }
 ],
 "metadata": {
  "kernelspec": {
   "display_name": "Python 3 (ipykernel)",
   "language": "python",
   "name": "python3"
  },
  "language_info": {
   "codemirror_mode": {
    "name": "ipython",
    "version": 3
   },
   "file_extension": ".py",
   "mimetype": "text/x-python",
   "name": "python",
   "nbconvert_exporter": "python",
   "pygments_lexer": "ipython3",
   "version": "3.12.4"
  }
 },
 "nbformat": 4,
 "nbformat_minor": 5
}
